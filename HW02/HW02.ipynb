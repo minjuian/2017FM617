{
 "cells": [
  {
   "cell_type": "code",
   "execution_count": 92,
   "metadata": {},
   "outputs": [
    {
     "name": "stdout",
     "output_type": "stream",
     "text": [
      "Hello World!\n",
      "This is Alice greeting\n",
      "This is Bob's greeting\n",
      "5 plus 10 is equal to 15\n",
      "foo\n",
      "==========\n",
      "Current working directory isC:\\Users\\min juian\\Desktop\\python\\2017FM617\\HW02\n",
      "I like to eat apples\n",
      "I like to eat oranges\n",
      "I like to eat cats\n",
      "count to ten\n",
      "1\n",
      "2\n",
      "3\n",
      "4\n",
      "5\n",
      "6\n",
      "7\n",
      "8\n",
      "9\n",
      "10\n"
     ]
    }
   ],
   "source": [
    "#載入模組 os\n",
    "import os\n",
    "\n",
    "#函式名main,在這裡只是慣例不是必須，適用在這段程式碼的最後部分\n",
    "def main():\n",
    "    print('Hello World!') #列出單行字串Hello world\n",
    "    print(\"This is Alice greeting\")  #列出單行字串This is Alice greeting，注意單、雙引號皆可用\n",
    "    print('This is Bob\\'s greeting')   #列出單行字串This is Bob's greeting，注意's的用法\n",
    "    \n",
    "    foo(5,10)  #函式適用，聲明在後述代碼\n",
    "    \n",
    "    print('=' * 10) #列出十個=\n",
    "    print('Current working directory is'  + os.getcwd()) #連接字串並利用os.getcwd模組找出路徑\n",
    " \n",
    "    counter = 0  #將變量實例化\n",
    "    counter += 1\n",
    "    \n",
    "    food = ['apples', 'oranges', 'cats'] #定義列表內容\n",
    "    \n",
    "    for i in food:                  #i代表每個food名稱\n",
    "        print('I like to eat ' +  i) #列出字串I like to eat + 三種水果名\n",
    "        \n",
    "    print('count to ten')\n",
    "    for i in range(10): #i代表range函數從0列到9\n",
    "        print(i + 1)\n",
    "        \n",
    "def foo(param1, secondParam):\n",
    "    res = param1 + secondParam #定義上述的foo和res\n",
    "    \n",
    "    print(\"%s plus %s is equal to %s\" %(param1 , secondParam , res)) #顯示出5 plus 10 equal to 15 ,其中5 10 15由%(param1 , secondParam , res)定義\n",
    "    if res < 50:  #若計算出的結果<50則顯示foo\n",
    "        print('foo')\n",
    "        \n",
    "    elif(res >= 50) and ((param1 == 42) or (secondParam == 24)): #若計算出來的數字大於等於50且param1=42或secondParam=24則顯示bar\n",
    "        print('bar')\n",
    "        \n",
    "    else:\n",
    "        print(\"moo\")  #其他結果則顯示moo\n",
    "        \n",
    "    return res\n",
    "    '''A multiline string, but an also be a multi-line comment'''\n",
    "\n",
    "#調用主函式main()，進行測試代碼而安置    \n",
    "if __name__ == '__main__' :\n",
    "    main()\n",
    "        \n",
    "    "
   ]
  }
 ],
 "metadata": {
  "kernelspec": {
   "display_name": "Python 3",
   "language": "python",
   "name": "python3"
  },
  "language_info": {
   "codemirror_mode": {
    "name": "ipython",
    "version": 3
   },
   "file_extension": ".py",
   "mimetype": "text/x-python",
   "name": "python",
   "nbconvert_exporter": "python",
   "pygments_lexer": "ipython3",
   "version": "3.6.3"
  }
 },
 "nbformat": 4,
 "nbformat_minor": 2
}
