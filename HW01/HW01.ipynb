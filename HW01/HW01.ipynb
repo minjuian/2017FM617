{
 "cells": [
  {
   "cell_type": "markdown",
   "metadata": {},
   "source": [
    "# HW01\n",
    "\n",
    "## 這個作業主要的目的是希望同學們了解善用模組跟套件可以很容易取得問題的快速解。"
   ]
  },
  {
   "cell_type": "markdown",
   "metadata": {},
   "source": [
    "## Q1. 請使用 python 讀入 Nasdaq 公司資訊！\n",
    "\n",
    "提示：\n",
    "1. 請先找到 Nasdaq Company List 的 .csv 檔的網址。\n",
    "2. 使用 pandas 套件的 read_csv 函式來讀入 .csv 檔。"
   ]
  },
  {
   "cell_type": "code",
   "execution_count": 13,
   "metadata": {
    "collapsed": true
   },
   "outputs": [],
   "source": [
    "import pandas as pd "
   ]
  },
  {
   "cell_type": "code",
   "execution_count": 14,
   "metadata": {
    "collapsed": true
   },
   "outputs": [],
   "source": [
    "url = \"http://www.nasdaq.com/screening/companies-by-industry.aspx?exchange=NASDAQ&render=download\""
   ]
  },
  {
   "cell_type": "code",
   "execution_count": 17,
   "metadata": {
    "collapsed": true
   },
   "outputs": [],
   "source": [
    "df = pd.read_csv(url)"
   ]
  },
  {
   "cell_type": "code",
   "execution_count": 18,
   "metadata": {},
   "outputs": [
    {
     "data": {
      "text/plain": [
       "<bound method NDFrame.head of      Symbol                                    Name LastSale     MarketCap  \\\n",
       "0       PIH  1347 Property Insurance Holdings, Inc.     7.09  4.223347e+07   \n",
       "1      TURN                180 Degree Capital Corp.     1.83  5.695246e+07   \n",
       "2      FLWS                 1-800 FLOWERS.COM, Inc.     9.35  6.066180e+08   \n",
       "3      FCCY           1st Constitution Bancorp (NJ)    17.95  1.448435e+08   \n",
       "4      SRCE                  1st Source Corporation    51.35  1.331820e+09   \n",
       "5      VNET                    21Vianet Group, Inc.     7.48  4.464949e+08   \n",
       "6      TWOU                                2U, Inc.    62.16  3.231139e+09   \n",
       "7      JOBS                             51job, Inc.    60.84  1.630109e+09   \n",
       "8      CAFD              8point3 Energy Partners LP     15.2  1.202091e+09   \n",
       "9      EGHT                                 8x8 Inc     13.2  1.212139e+09   \n",
       "10     AVHI                         A V Homes, Inc.    16.35  3.671505e+08   \n",
       "11     SHLM                       A. Schulman, Inc.     38.4  1.132796e+09   \n",
       "12     AAON                              AAON, Inc.     34.3  1.804304e+09   \n",
       "13     ABAX                            ABAXIS, Inc.    47.86  1.085973e+09   \n",
       "14     ABEO                Abeona Therapeutics Inc.    17.45  8.142564e+08   \n",
       "15    ABEOW                Abeona Therapeutics Inc.    12.38  0.000000e+00   \n",
       "16     ABIL                            Ability Inc.     0.67  1.725662e+07   \n",
       "17     ABMD                           ABIOMED, Inc.   179.48  7.933157e+09   \n",
       "18     ABLX                               Ablynx NV    20.29  2.319147e+08   \n",
       "19     AXAS           Abraxas Petroleum Corporation        2  3.316998e+08   \n",
       "20     ACIU                            AC Immune SA    11.71  6.665595e+08   \n",
       "21     ACIA             Acacia Communications, Inc.    42.06  1.649935e+09   \n",
       "22     ACTG             Acacia Research Corporation      4.5  2.276885e+08   \n",
       "23     ACHC         Acadia Healthcare Company, Inc.    31.33  2.752453e+09   \n",
       "24     ACAD             ACADIA Pharmaceuticals Inc.    35.18  4.306043e+09   \n",
       "25     ACST                     Acasti Pharma, Inc.      1.3  1.915672e+07   \n",
       "26     AXDX            Accelerate Diagnostics, Inc.    19.45  1.075550e+09   \n",
       "27     ACCP                Accelerated Pharma, Inc.      n/a  0.000000e+00   \n",
       "28     XLRN                   Acceleron Pharma Inc.    38.33  1.721066e+09   \n",
       "29     ANCX             Access National Corporation    29.19  5.968403e+08   \n",
       "...     ...                                     ...      ...           ...   \n",
       "3254   YERR       Yangtze River Development Limited  14.5639  2.509527e+09   \n",
       "3255   YTRA                      Yatra Online, Inc.     8.58  2.902516e+08   \n",
       "3256   YTEN                Yield10 Bioscience, Inc.     2.83  9.796651e+06   \n",
       "3257    YIN     Yintech Investment Holdings Limited    12.46  1.389696e+08   \n",
       "3258   YOGA                         YogaWorks, Inc.     2.63  4.314088e+07   \n",
       "3259   YGYI          Youngevity International, Inc.     4.76  9.366807e+07   \n",
       "3260   YRCW                     YRC Worldwide, Inc.    13.28  4.453080e+08   \n",
       "3261   YECO            Yulong Eco-Materials Limited   0.5302  6.391733e+06   \n",
       "3262     YY                                 YY Inc.    87.37  3.399563e+09   \n",
       "3263   ZFGN                            Zafgen, Inc.     3.49  9.591890e+07   \n",
       "3264   ZAGG                                ZAGG Inc     16.8  4.698054e+08   \n",
       "3265   ZLAB                         Zai Lab Limited    27.09  1.593705e+08   \n",
       "3266   ZAIS               ZAIS Group Holdings, Inc.   3.7475  5.501623e+07   \n",
       "3267   ZEAL                      Zealand Pharma A/S    18.22  7.967154e+07   \n",
       "3268   ZBRA          Zebra Technologies Corporation   110.47  5.866867e+09   \n",
       "3269      Z                      Zillow Group, Inc.    40.88  7.649804e+09   \n",
       "3270     ZG                      Zillow Group, Inc.    40.77  7.629220e+09   \n",
       "3271     ZN                      Zion Oil & Gas Inc     2.55  1.323770e+08   \n",
       "3272  ZNWAA                      Zion Oil & Gas Inc      n/a  0.000000e+00   \n",
       "3273   ZION                    Zions Bancorporation     46.8  9.346522e+09   \n",
       "3274  ZIONW                    Zions Bancorporation    15.15  0.000000e+00   \n",
       "3275  ZIONZ                    Zions Bancorporation    12.86  0.000000e+00   \n",
       "3276   ZIOP                   ZIOPHARM Oncology Inc     4.83  6.856803e+08   \n",
       "3277   ZIXI                         Zix Corporation     4.73  2.612010e+08   \n",
       "3278   ZKIN         ZK International Group Co., Ltd      6.9  9.315000e+07   \n",
       "3279   ZGNX                           Zogenix, Inc.     38.1  9.464451e+08   \n",
       "3280   ZSAN               Zosano Pharma Corporation   0.6902  2.707661e+07   \n",
       "3281   ZUMZ                             Zumiez Inc.     17.4  4.390119e+08   \n",
       "3282   ZYNE           Zynerba Pharmaceuticals, Inc.     9.76  1.293910e+08   \n",
       "3283   ZNGA                              Zynga Inc.     3.82  3.306060e+09   \n",
       "\n",
       "       ADR TSO IPOyear             Sector  \\\n",
       "0          n/a    2014            Finance   \n",
       "1          n/a     n/a            Finance   \n",
       "2          n/a    1999  Consumer Services   \n",
       "3          n/a     n/a            Finance   \n",
       "4          n/a     n/a            Finance   \n",
       "5     59691833    2011         Technology   \n",
       "6          n/a    2014         Technology   \n",
       "7     26793371    2004         Technology   \n",
       "8          n/a    2015   Public Utilities   \n",
       "9          n/a     n/a   Public Utilities   \n",
       "10         n/a     n/a      Capital Goods   \n",
       "11         n/a    1972   Basic Industries   \n",
       "12         n/a     n/a      Capital Goods   \n",
       "13         n/a    1992      Capital Goods   \n",
       "14         n/a     n/a        Health Care   \n",
       "15         n/a     n/a        Health Care   \n",
       "16         n/a    2014            Finance   \n",
       "17         n/a     n/a        Health Care   \n",
       "18    11430000    2017        Health Care   \n",
       "19         n/a     n/a             Energy   \n",
       "20         n/a    2016        Health Care   \n",
       "21         n/a    2016         Technology   \n",
       "22         n/a     n/a      Miscellaneous   \n",
       "23         n/a     n/a        Health Care   \n",
       "24         n/a    2004        Health Care   \n",
       "25         n/a     n/a        Health Care   \n",
       "26         n/a     n/a      Capital Goods   \n",
       "27         n/a     n/a                n/a   \n",
       "28         n/a    2013        Health Care   \n",
       "29         n/a     n/a            Finance   \n",
       "...        ...     ...                ...   \n",
       "3254       n/a     n/a            Finance   \n",
       "3255       n/a     n/a  Consumer Services   \n",
       "3256       n/a     n/a   Basic Industries   \n",
       "3257  11153257    2016            Finance   \n",
       "3258       n/a    2017  Consumer Services   \n",
       "3259       n/a     n/a  Consumer Services   \n",
       "3260       n/a     n/a     Transportation   \n",
       "3261       n/a    2017      Capital Goods   \n",
       "3262  38909954    2012         Technology   \n",
       "3263       n/a    2014        Health Care   \n",
       "3264       n/a     n/a  Consumer Services   \n",
       "3265   5883000    2017        Health Care   \n",
       "3266       n/a    2013            Finance   \n",
       "3267   4372752    2017        Health Care   \n",
       "3268       n/a    1991         Technology   \n",
       "3269       n/a     n/a      Miscellaneous   \n",
       "3270       n/a    2011      Miscellaneous   \n",
       "3271       n/a     n/a             Energy   \n",
       "3272       n/a     n/a             Energy   \n",
       "3273       n/a     n/a            Finance   \n",
       "3274       n/a     n/a            Finance   \n",
       "3275       n/a     n/a            Finance   \n",
       "3276       n/a     n/a        Health Care   \n",
       "3277       n/a     n/a         Technology   \n",
       "3278       n/a    2017      Capital Goods   \n",
       "3279       n/a    2010        Health Care   \n",
       "3280       n/a    2015        Health Care   \n",
       "3281       n/a    2005  Consumer Services   \n",
       "3282       n/a    2015        Health Care   \n",
       "3283       n/a    2011         Technology   \n",
       "\n",
       "                                               Industry  \\\n",
       "0                            Property-Casualty Insurers   \n",
       "1                            Finance/Investors Services   \n",
       "2                                Other Specialty Stores   \n",
       "3                                  Savings Institutions   \n",
       "4                                           Major Banks   \n",
       "5       Computer Software: Programming, Data Processing   \n",
       "6               Computer Software: Prepackaged Software   \n",
       "7                       Diversified Commercial Services   \n",
       "8                           Electric Utilities: Central   \n",
       "9                          Telecommunications Equipment   \n",
       "10                                         Homebuilding   \n",
       "11                                      Major Chemicals   \n",
       "12                      Industrial Machinery/Components   \n",
       "13                      Industrial Machinery/Components   \n",
       "14                                Major Pharmaceuticals   \n",
       "15                                Major Pharmaceuticals   \n",
       "16                                    Business Services   \n",
       "17                           Medical/Dental Instruments   \n",
       "18    Biotechnology: Biological Products (No Diagnos...   \n",
       "19                                 Oil & Gas Production   \n",
       "20                                Major Pharmaceuticals   \n",
       "21                                       Semiconductors   \n",
       "22                               Multi-Sector Companies   \n",
       "23                                 Medical Specialities   \n",
       "24                                Major Pharmaceuticals   \n",
       "25                                Major Pharmaceuticals   \n",
       "26     Biotechnology: Laboratory Analytical Instruments   \n",
       "27                                                  n/a   \n",
       "28    Biotechnology: Biological Products (No Diagnos...   \n",
       "29                                 Savings Institutions   \n",
       "...                                                 ...   \n",
       "3254                                        Real Estate   \n",
       "3255                            Transportation Services   \n",
       "3256                               Containers/Packaging   \n",
       "3257                 Investment Bankers/Brokers/Service   \n",
       "3258                            Other Consumer Services   \n",
       "3259                     Catalog/Specialty Distribution   \n",
       "3260                  Trucking Freight/Courier Services   \n",
       "3261                                 Building Materials   \n",
       "3262                                       EDP Services   \n",
       "3263                              Major Pharmaceuticals   \n",
       "3264                             Other Specialty Stores   \n",
       "3265                              Major Pharmaceuticals   \n",
       "3266                                Investment Managers   \n",
       "3267                              Major Pharmaceuticals   \n",
       "3268                    Industrial Machinery/Components   \n",
       "3269                                  Business Services   \n",
       "3270                                  Business Services   \n",
       "3271                               Oil & Gas Production   \n",
       "3272                               Oil & Gas Production   \n",
       "3273                                        Major Banks   \n",
       "3274                                        Major Banks   \n",
       "3275                                        Major Banks   \n",
       "3276                              Major Pharmaceuticals   \n",
       "3277                                       EDP Services   \n",
       "3278                                 Metal Fabrications   \n",
       "3279                              Major Pharmaceuticals   \n",
       "3280                              Major Pharmaceuticals   \n",
       "3281                     Clothing/Shoe/Accessory Stores   \n",
       "3282                              Major Pharmaceuticals   \n",
       "3283                                       EDP Services   \n",
       "\n",
       "                           Summary Quote  Unnamed: 9  \n",
       "0       http://www.nasdaq.com/symbol/pih         NaN  \n",
       "1      http://www.nasdaq.com/symbol/turn         NaN  \n",
       "2      http://www.nasdaq.com/symbol/flws         NaN  \n",
       "3      http://www.nasdaq.com/symbol/fccy         NaN  \n",
       "4      http://www.nasdaq.com/symbol/srce         NaN  \n",
       "5      http://www.nasdaq.com/symbol/vnet         NaN  \n",
       "6      http://www.nasdaq.com/symbol/twou         NaN  \n",
       "7      http://www.nasdaq.com/symbol/jobs         NaN  \n",
       "8      http://www.nasdaq.com/symbol/cafd         NaN  \n",
       "9      http://www.nasdaq.com/symbol/eght         NaN  \n",
       "10     http://www.nasdaq.com/symbol/avhi         NaN  \n",
       "11     http://www.nasdaq.com/symbol/shlm         NaN  \n",
       "12     http://www.nasdaq.com/symbol/aaon         NaN  \n",
       "13     http://www.nasdaq.com/symbol/abax         NaN  \n",
       "14     http://www.nasdaq.com/symbol/abeo         NaN  \n",
       "15    http://www.nasdaq.com/symbol/abeow         NaN  \n",
       "16     http://www.nasdaq.com/symbol/abil         NaN  \n",
       "17     http://www.nasdaq.com/symbol/abmd         NaN  \n",
       "18     http://www.nasdaq.com/symbol/ablx         NaN  \n",
       "19     http://www.nasdaq.com/symbol/axas         NaN  \n",
       "20     http://www.nasdaq.com/symbol/aciu         NaN  \n",
       "21     http://www.nasdaq.com/symbol/acia         NaN  \n",
       "22     http://www.nasdaq.com/symbol/actg         NaN  \n",
       "23     http://www.nasdaq.com/symbol/achc         NaN  \n",
       "24     http://www.nasdaq.com/symbol/acad         NaN  \n",
       "25     http://www.nasdaq.com/symbol/acst         NaN  \n",
       "26     http://www.nasdaq.com/symbol/axdx         NaN  \n",
       "27     http://www.nasdaq.com/symbol/accp         NaN  \n",
       "28     http://www.nasdaq.com/symbol/xlrn         NaN  \n",
       "29     http://www.nasdaq.com/symbol/ancx         NaN  \n",
       "...                                  ...         ...  \n",
       "3254   http://www.nasdaq.com/symbol/yerr         NaN  \n",
       "3255   http://www.nasdaq.com/symbol/ytra         NaN  \n",
       "3256   http://www.nasdaq.com/symbol/yten         NaN  \n",
       "3257    http://www.nasdaq.com/symbol/yin         NaN  \n",
       "3258   http://www.nasdaq.com/symbol/yoga         NaN  \n",
       "3259   http://www.nasdaq.com/symbol/ygyi         NaN  \n",
       "3260   http://www.nasdaq.com/symbol/yrcw         NaN  \n",
       "3261   http://www.nasdaq.com/symbol/yeco         NaN  \n",
       "3262     http://www.nasdaq.com/symbol/yy         NaN  \n",
       "3263   http://www.nasdaq.com/symbol/zfgn         NaN  \n",
       "3264   http://www.nasdaq.com/symbol/zagg         NaN  \n",
       "3265   http://www.nasdaq.com/symbol/zlab         NaN  \n",
       "3266   http://www.nasdaq.com/symbol/zais         NaN  \n",
       "3267   http://www.nasdaq.com/symbol/zeal         NaN  \n",
       "3268   http://www.nasdaq.com/symbol/zbra         NaN  \n",
       "3269      http://www.nasdaq.com/symbol/z         NaN  \n",
       "3270     http://www.nasdaq.com/symbol/zg         NaN  \n",
       "3271     http://www.nasdaq.com/symbol/zn         NaN  \n",
       "3272  http://www.nasdaq.com/symbol/znwaa         NaN  \n",
       "3273   http://www.nasdaq.com/symbol/zion         NaN  \n",
       "3274  http://www.nasdaq.com/symbol/zionw         NaN  \n",
       "3275  http://www.nasdaq.com/symbol/zionz         NaN  \n",
       "3276   http://www.nasdaq.com/symbol/ziop         NaN  \n",
       "3277   http://www.nasdaq.com/symbol/zixi         NaN  \n",
       "3278   http://www.nasdaq.com/symbol/zkin         NaN  \n",
       "3279   http://www.nasdaq.com/symbol/zgnx         NaN  \n",
       "3280   http://www.nasdaq.com/symbol/zsan         NaN  \n",
       "3281   http://www.nasdaq.com/symbol/zumz         NaN  \n",
       "3282   http://www.nasdaq.com/symbol/zyne         NaN  \n",
       "3283   http://www.nasdaq.com/symbol/znga         NaN  \n",
       "\n",
       "[3284 rows x 10 columns]>"
      ]
     },
     "execution_count": 18,
     "metadata": {},
     "output_type": "execute_result"
    }
   ],
   "source": [
    "df.head"
   ]
  },
  {
   "cell_type": "markdown",
   "metadata": {},
   "source": [
    "## Q2. 請使用 python 畫中山大學管理學院周邊地圖！\n",
    "\n",
    "提示：\n",
    "\n",
    "1. 使用 geocoder 套件來找出地址的 GPS 座標。\n",
    "2. 使用 folium 套件來顯示地圖。"
   ]
  },
  {
   "cell_type": "code",
   "execution_count": 18,
   "metadata": {
    "collapsed": true
   },
   "outputs": [],
   "source": [
    "import geocoder"
   ]
  },
  {
   "cell_type": "code",
   "execution_count": 19,
   "metadata": {
    "collapsed": true
   },
   "outputs": [],
   "source": [
    "location = geocoder.google('中山大學管理學院')"
   ]
  },
  {
   "cell_type": "code",
   "execution_count": 20,
   "metadata": {},
   "outputs": [
    {
     "data": {
      "text/plain": [
       "[22.627447, 120.265274]"
      ]
     },
     "execution_count": 20,
     "metadata": {},
     "output_type": "execute_result"
    }
   ],
   "source": [
    "location.latlng"
   ]
  },
  {
   "cell_type": "code",
   "execution_count": 21,
   "metadata": {
    "collapsed": true
   },
   "outputs": [],
   "source": [
    "import folium"
   ]
  },
  {
   "cell_type": "code",
   "execution_count": 22,
   "metadata": {},
   "outputs": [
    {
     "data": {
      "text/html": [
       "<div style=\"width:100%;\"><div style=\"position:relative;width:100%;height:0;padding-bottom:60%;\"><iframe src=\"data:text/html;charset=utf-8;base64,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\" style=\"position:absolute;width:100%;height:100%;left:0;top:0;border:none !important;\" allowfullscreen webkitallowfullscreen mozallowfullscreen></iframe></div></div>"
      ],
      "text/plain": [
       "<folium.folium.Map at 0x157be860>"
      ]
     },
     "execution_count": 22,
     "metadata": {},
     "output_type": "execute_result"
    }
   ],
   "source": [
    "folium.Map(location=[22.627447, 120.265274], zoom_start=16)"
   ]
  },
  {
   "cell_type": "markdown",
   "metadata": {},
   "source": [
    "## Q3. 請使用 python 將新聞中可能的關鍵詞萃取出來！ (Bonus)\n",
    "\n",
    "提示：\n",
    "\n",
    "1. 使用老師提供的 util.py 來擷取鉅亨網上特定新聞的內容。\n",
    "2. 使用 jieba 套件來擷取關鍵詞。"
   ]
  },
  {
   "cell_type": "code",
   "execution_count": 10,
   "metadata": {
    "collapsed": true
   },
   "outputs": [],
   "source": [
    "import util"
   ]
  },
  {
   "cell_type": "code",
   "execution_count": 12,
   "metadata": {},
   "outputs": [],
   "source": [
    "news_text = util.get_news_article('https://news.cnyes.com/news/id/3956179')"
   ]
  },
  {
   "cell_type": "code",
   "execution_count": 13,
   "metadata": {},
   "outputs": [
    {
     "data": {
      "text/plain": [
       "'除澳洲央行外，包括美國聯準會 (Fed) 在內的多個主要國家央行，年內僅剩下最後一次議息會議。目前市場普遍預計 Fed 年內還將再升息一次，而其他央行則大概率按兵不動。\\n匯通網報導，2017 年已經剩下不足 2 個月了，從全球範圍來看，影響匯市的各種不確定性因素都已經漸漸塵埃落定了。不論是貫穿全年的各國大選，還是直接影響匯率走勢的央行貨幣政策，在今年剩下不多的時日間，幾乎可以說是非常明朗的了。\\n2017 年是大選多發年，其中荷蘭大選、法國大選、紐西蘭大選和德國大選是屬於在既定日程上的大選，而英國大選和日本大選則屬於臨時亂入之選。從結果來看，紐西蘭給市場的驚喜最多，日本是最無趣的大選；法國是最令人緊張的大選。\\n隨著各種大選落幕，不少國家的主流政黨支持率有所下滑，而一些帶有保守主義、甚至是民粹主義傾向政黨的勢力開始崛起，這不得不讓我們細思其背後的原因。而所有的線索最終似乎都指向了國家經濟與社會福利之間的矛盾。\\n目前來看，德國組閣或許仍存一定的障礙。雖然總理梅克爾 (Angela Merkel) 對組閣有信心，但是參與談判的高層人士卻在警惕談判失敗的可能性。而最大的反對黨仍在以重新大選相要脅。\\n儘管如此，在內年所剩不多的時日中，預計政壇局勢對於市場的整體影響將漸漸弱化。下一場值得關注的大選是明年 3 月左右的義大利大選。\\n除了政壇的人事變動之外，多個國家央行的人事也較大的變動，其中最重要的當屬全球第一大央行 -- 美國聯準會 (Fed)。不過還有包括英國央行、日本央行和紐西蘭央行也均有重要的人事變動。但這些國家的貨幣政策在年內應該已經是非常清晰的了。\\n★ 美國聯準會 (Fed)\\n\\nFed 升息概率圖，目前市場預期下次升息可能在 2017 年 12 月。 圖：匯通網\\n\\n據匯通網最新報導，美國紐約聯儲主席、聯邦公開市場委員會 (FOMC) 二號人物、常任票委杜德利 (William Dudley) 最早或於下周 (11 月 6-12 日) 宣佈退休計畫。考慮到 Fed 主席也只是剛剛被提名，還未經美國參議院確認，加上此前退休的副主席、長期空缺的 2 個理事職位，至少從投票人數來看，或將使得 Fed 改變現有政策路徑的難度係數加大了。\\n另外，考慮到美國第 4 季有望獲得強勁的經濟增長，Fed 在年內再升一次息，與此同時設定好 2018 年的貨幣政策節奏，實現權力的平穩交接，或許是他們在當下最為關心的事情了。\\n★ 歐洲央行\\n\\n一直到 2018 年年底前，市場都認為歐洲央行將不會升息。 (圖：匯通網\\n\\n歐洲央行 (ECB) 在 10 月利率決議中，一如市場預期的在減少購債規模的同時延長了購債的期限。此後行長德拉吉 (Mario Draghi) 強調，他們只是微調了政策，但是為了支撐歐元區的經濟增長，超級寬鬆的貨幣政策是必須的。\\n至此，對於歐洲央行來說，繼續保持負利率＋QE 的政策，至少是其在明年大部分時候的主要基調。如果經濟和通膨仍然保持溫和增長，那就看不到歐洲央行改變現有貨幣政策的動力。\\n★ 英國央行\\n\\n目前市場預期英國央行下次升息可能在 2018 年 8 月。 (圖：匯通網)\\n\\n英國央行在 11 月進行了 10 年來的首次升息，顯然這是為了英國脫歐公投後英鎊急劇貶值導致通膨大幅上升的常規操作政策。\\n在本次英國央行的決議中，他們表示在未來 3 年中最多大概只會在升息 2 次。這與市場所體現出的升息路徑預期是相一致的。而且英國央行預計，未來 3 年中，通膨將會回落至 2% 的水準。此外，他們還表示除了對脫歐不確定的擔憂。\\n不過此後行長卡尼 (Carney) 注意到了市場似乎過度解讀了央行的政策，他用一些中性的言論緩和了市場的看空情緒。這就可以從中解讀出，英國央行未來的升息路徑是非常平坦的，而且是非常循序漸進的。\\n★ 日本央行\\n\\n一直到 2018 年年底前，市場都認為日本央行將不會升息。 (圖：匯通網\\n\\n日本剛剛舉行完提前大選，安倍晉三穩坐首相寶座。為了刺激經濟增長以及實現其上調消費稅的目標，想比日本央行會繼續保持超寬鬆的貨幣政策相當長一段時間。另外，通膨始終低於央行 2% 的目標，這就使得日本央行更沒有行動的動力。\\n★ 紐西蘭央行\\n\\n目前市場預期紐西蘭央行下次升息可能在 2018 年 8 月。 (圖：匯通網\\n\\n對於紐西蘭央行 (RBNZ) 的關注點應該聚焦於其改革。紐西蘭大選後新的執政聯盟表示將對紐西蘭央行進行改革，可能會將就業目標加入央行職責。這就增加了紐西蘭央行在制定貨幣政策時的難度。\\n此外，市場預計新的執政聯盟制定的政策將不利於紐西蘭未來的經濟，也在最近一段時間內持續施壓紐元表現。因此，對於紐西蘭央行來說，未來相當長一段時間內都很難改變其貨幣政策。\\n★ 澳洲央行\\n\\n目前市場預期澳洲央行下次升息可能在 2018 年 10 月。 (圖：匯通網)\\n\\n鑒於澳大利亞經濟繼續保持著世界上少有的增長紀錄，與此同時市場趨於穩定，對於澳洲央行 (RBA) 來說，並沒有太多改變貨幣政策的動力。但需留意的是，第 3 季澳洲經濟增速有所放緩，需要觀察的是這種跡象是否具有可持續性。另外一個改變澳洲央行貨幣政策的變數，當屬該國的通膨水準。\\n★ 加拿大央行\\n\\n目前市場預期加拿大央行下次升息可能在 2018 年 3 月。 (圖：匯通網)\\n\\n在今年 7 月和 9 月，加拿大央行連續 2 次上調了其基準利率。尤其是 9 月的時候，屬於出乎市場意料的。加拿大央行表示，其未來的貨幣政策制定將視經濟資料來決定。這就和 Fed 有點異曲同工的味道。\\n因此，在研究加拿大央行的貨幣政策時，去除市場雜音，多關注該國的經濟資料即可。\\n在過去一周中，儘管基本面有著很多重磅事件，諸如日本央行公佈利率決議並發表了最新的經濟展望、Fed 公佈了利率決議、美國總統川普宣佈了新任 Fed 主席提名、甚至是在美國非農就業報告的情況下，匯市卻依然不為所動。不僅是匯市，美股在屢次刷新紀錄新高之時，波動性同樣非常低。\\n明年市場關注的焦點 -- 通膨\\n\\n圖：匯通網\\n\\n除了澳洲央行之外，其他各大央行年內還只剩下最後一次議息會議。Fed 大概率會在升一次息之外，其他各大央行大概率會保持按兵不動的狀態。這一貨幣政策的短期背離，或將對美元指數構成利多支撐，而對於其他非美貨幣來說是一種利空。\\n在此後的央行會議中，需將重點逐步轉向他們對於未來通膨的看法。如果他們上調了通膨預期，那麼就會引發市場對於他們加速收緊貨幣政策的預期。如果有央行表示，通膨只是溫和回升的話，那就意味著大概率會按兵不動，給了市場一個做空該國貨幣的理由。\\n總體來說，匯通網維持在今年夏天提出的觀點不變，從政策收緊的先後順序來看，依舊保持著 Fed→加拿大央行→英國央行→紐西蘭央行→澳洲央行→歐洲央行→日本央行這樣的順序大致不變。\\n'"
      ]
     },
     "execution_count": 13,
     "metadata": {},
     "output_type": "execute_result"
    }
   ],
   "source": [
    "news_text"
   ]
  },
  {
   "cell_type": "code",
   "execution_count": 14,
   "metadata": {
    "collapsed": true
   },
   "outputs": [],
   "source": [
    "import jieba"
   ]
  },
  {
   "cell_type": "code",
   "execution_count": 15,
   "metadata": {
    "collapsed": true
   },
   "outputs": [],
   "source": [
    "import jieba.analyse"
   ]
  },
  {
   "cell_type": "code",
   "execution_count": 17,
   "metadata": {},
   "outputs": [
    {
     "name": "stderr",
     "output_type": "stream",
     "text": [
      "Building prefix dict from the default dictionary ...\n",
      "Dumping model to file cache C:\\Users\\MINJUI~1\\AppData\\Local\\Temp\\jieba.cache\n",
      "Loading model cost 2.172 seconds.\n",
      "Prefix dict has been built succesfully.\n"
     ]
    },
    {
     "data": {
      "text/plain": [
       "['央行',\n",
       " '市場',\n",
       " 'Fed',\n",
       " '貨幣',\n",
       " '經濟',\n",
       " '匯通網',\n",
       " '英國',\n",
       " '紐西蘭',\n",
       " '預期',\n",
       " '升息',\n",
       " '大選',\n",
       " '政策',\n",
       " '2018',\n",
       " '他們',\n",
       " '歐洲',\n",
       " '未來',\n",
       " '澳洲',\n",
       " '日本央行',\n",
       " '國家',\n",
       " '改變']"
      ]
     },
     "execution_count": 17,
     "metadata": {},
     "output_type": "execute_result"
    }
   ],
   "source": [
    "jieba.analyse.extract_tags(news_text, topK=20)"
   ]
  },
  {
   "cell_type": "code",
   "execution_count": null,
   "metadata": {
    "collapsed": true
   },
   "outputs": [],
   "source": []
  }
 ],
 "metadata": {
  "kernelspec": {
   "display_name": "Python 3",
   "language": "python",
   "name": "python3"
  },
  "language_info": {
   "codemirror_mode": {
    "name": "ipython",
    "version": 3
   },
   "file_extension": ".py",
   "mimetype": "text/x-python",
   "name": "python",
   "nbconvert_exporter": "python",
   "pygments_lexer": "ipython3",
   "version": "3.6.3"
  }
 },
 "nbformat": 4,
 "nbformat_minor": 2
}
