{
 "cells": [
  {
   "cell_type": "markdown",
   "metadata": {},
   "source": [
    "# HW01\n",
    "\n",
    "## 這個作業主要的目的是希望同學們了解善用模組跟套件可以很容易取得問題的快速解。"
   ]
  },
  {
   "cell_type": "markdown",
   "metadata": {},
   "source": [
    "## Q1. 請使用 python 讀入 Nasdaq 公司資訊！\n",
    "\n",
    "提示：\n",
    "1. 請先找到 Nasdaq Company List 的 .csv 檔的網址。\n",
    "2. 使用 pandas 套件的 read_csv 函式來讀入 .csv 檔。"
   ]
  },
  {
   "cell_type": "code",
   "execution_count": 13,
   "metadata": {
    "collapsed": true
   },
   "outputs": [],
   "source": [
    "import pandas as pd "
   ]
  },
  {
   "cell_type": "code",
   "execution_count": 14,
   "metadata": {
    "collapsed": true
   },
   "outputs": [],
   "source": [
    "url = \"http://www.nasdaq.com/screening/companies-by-industry.aspx?exchange=NASDAQ&render=download\""
   ]
  },
  {
   "cell_type": "code",
   "execution_count": 17,
   "metadata": {
    "collapsed": true
   },
   "outputs": [],
   "source": [
    "df = pd.read_csv(url)"
   ]
  },
  {
   "cell_type": "code",
   "execution_count": 18,
   "metadata": {},
   "outputs": [
    {
     "data": {
      "text/plain": [
       "<bound method NDFrame.head of      Symbol                                    Name LastSale     MarketCap  \\\n",
       "0       PIH  1347 Property Insurance Holdings, Inc.     7.09  4.223347e+07   \n",
       "1      TURN                180 Degree Capital Corp.     1.83  5.695246e+07   \n",
       "2      FLWS                 1-800 FLOWERS.COM, Inc.     9.35  6.066180e+08   \n",
       "3      FCCY           1st Constitution Bancorp (NJ)    17.95  1.448435e+08   \n",
       "4      SRCE                  1st Source Corporation    51.35  1.331820e+09   \n",
       "5      VNET                    21Vianet Group, Inc.     7.48  4.464949e+08   \n",
       "6      TWOU                                2U, Inc.    62.16  3.231139e+09   \n",
       "7      JOBS                             51job, Inc.    60.84  1.630109e+09   \n",
       "8      CAFD              8point3 Energy Partners LP     15.2  1.202091e+09   \n",
       "9      EGHT                                 8x8 Inc     13.2  1.212139e+09   \n",
       "10     AVHI                         A V Homes, Inc.    16.35  3.671505e+08   \n",
       "11     SHLM                       A. Schulman, Inc.     38.4  1.132796e+09   \n",
       "12     AAON                              AAON, Inc.     34.3  1.804304e+09   \n",
       "13     ABAX                            ABAXIS, Inc.    47.86  1.085973e+09   \n",
       "14     ABEO                Abeona Therapeutics Inc.    17.45  8.142564e+08   \n",
       "15    ABEOW                Abeona Therapeutics Inc.    12.38  0.000000e+00   \n",
       "16     ABIL                            Ability Inc.     0.67  1.725662e+07   \n",
       "17     ABMD                           ABIOMED, Inc.   179.48  7.933157e+09   \n",
       "18     ABLX                               Ablynx NV    20.29  2.319147e+08   \n",
       "19     AXAS           Abraxas Petroleum Corporation        2  3.316998e+08   \n",
       "20     ACIU                            AC Immune SA    11.71  6.665595e+08   \n",
       "21     ACIA             Acacia Communications, Inc.    42.06  1.649935e+09   \n",
       "22     ACTG             Acacia Research Corporation      4.5  2.276885e+08   \n",
       "23     ACHC         Acadia Healthcare Company, Inc.    31.33  2.752453e+09   \n",
       "24     ACAD             ACADIA Pharmaceuticals Inc.    35.18  4.306043e+09   \n",
       "25     ACST                     Acasti Pharma, Inc.      1.3  1.915672e+07   \n",
       "26     AXDX            Accelerate Diagnostics, Inc.    19.45  1.075550e+09   \n",
       "27     ACCP                Accelerated Pharma, Inc.      n/a  0.000000e+00   \n",
       "28     XLRN                   Acceleron Pharma Inc.    38.33  1.721066e+09   \n",
       "29     ANCX             Access National Corporation    29.19  5.968403e+08   \n",
       "...     ...                                     ...      ...           ...   \n",
       "3254   YERR       Yangtze River Development Limited  14.5639  2.509527e+09   \n",
       "3255   YTRA                      Yatra Online, Inc.     8.58  2.902516e+08   \n",
       "3256   YTEN                Yield10 Bioscience, Inc.     2.83  9.796651e+06   \n",
       "3257    YIN     Yintech Investment Holdings Limited    12.46  1.389696e+08   \n",
       "3258   YOGA                         YogaWorks, Inc.     2.63  4.314088e+07   \n",
       "3259   YGYI          Youngevity International, Inc.     4.76  9.366807e+07   \n",
       "3260   YRCW                     YRC Worldwide, Inc.    13.28  4.453080e+08   \n",
       "3261   YECO            Yulong Eco-Materials Limited   0.5302  6.391733e+06   \n",
       "3262     YY                                 YY Inc.    87.37  3.399563e+09   \n",
       "3263   ZFGN                            Zafgen, Inc.     3.49  9.591890e+07   \n",
       "3264   ZAGG                                ZAGG Inc     16.8  4.698054e+08   \n",
       "3265   ZLAB                         Zai Lab Limited    27.09  1.593705e+08   \n",
       "3266   ZAIS               ZAIS Group Holdings, Inc.   3.7475  5.501623e+07   \n",
       "3267   ZEAL                      Zealand Pharma A/S    18.22  7.967154e+07   \n",
       "3268   ZBRA          Zebra Technologies Corporation   110.47  5.866867e+09   \n",
       "3269      Z                      Zillow Group, Inc.    40.88  7.649804e+09   \n",
       "3270     ZG                      Zillow Group, Inc.    40.77  7.629220e+09   \n",
       "3271     ZN                      Zion Oil & Gas Inc     2.55  1.323770e+08   \n",
       "3272  ZNWAA                      Zion Oil & Gas Inc      n/a  0.000000e+00   \n",
       "3273   ZION                    Zions Bancorporation     46.8  9.346522e+09   \n",
       "3274  ZIONW                    Zions Bancorporation    15.15  0.000000e+00   \n",
       "3275  ZIONZ                    Zions Bancorporation    12.86  0.000000e+00   \n",
       "3276   ZIOP                   ZIOPHARM Oncology Inc     4.83  6.856803e+08   \n",
       "3277   ZIXI                         Zix Corporation     4.73  2.612010e+08   \n",
       "3278   ZKIN         ZK International Group Co., Ltd      6.9  9.315000e+07   \n",
       "3279   ZGNX                           Zogenix, Inc.     38.1  9.464451e+08   \n",
       "3280   ZSAN               Zosano Pharma Corporation   0.6902  2.707661e+07   \n",
       "3281   ZUMZ                             Zumiez Inc.     17.4  4.390119e+08   \n",
       "3282   ZYNE           Zynerba Pharmaceuticals, Inc.     9.76  1.293910e+08   \n",
       "3283   ZNGA                              Zynga Inc.     3.82  3.306060e+09   \n",
       "\n",
       "       ADR TSO IPOyear             Sector  \\\n",
       "0          n/a    2014            Finance   \n",
       "1          n/a     n/a            Finance   \n",
       "2          n/a    1999  Consumer Services   \n",
       "3          n/a     n/a            Finance   \n",
       "4          n/a     n/a            Finance   \n",
       "5     59691833    2011         Technology   \n",
       "6          n/a    2014         Technology   \n",
       "7     26793371    2004         Technology   \n",
       "8          n/a    2015   Public Utilities   \n",
       "9          n/a     n/a   Public Utilities   \n",
       "10         n/a     n/a      Capital Goods   \n",
       "11         n/a    1972   Basic Industries   \n",
       "12         n/a     n/a      Capital Goods   \n",
       "13         n/a    1992      Capital Goods   \n",
       "14         n/a     n/a        Health Care   \n",
       "15         n/a     n/a        Health Care   \n",
       "16         n/a    2014            Finance   \n",
       "17         n/a     n/a        Health Care   \n",
       "18    11430000    2017        Health Care   \n",
       "19         n/a     n/a             Energy   \n",
       "20         n/a    2016        Health Care   \n",
       "21         n/a    2016         Technology   \n",
       "22         n/a     n/a      Miscellaneous   \n",
       "23         n/a     n/a        Health Care   \n",
       "24         n/a    2004        Health Care   \n",
       "25         n/a     n/a        Health Care   \n",
       "26         n/a     n/a      Capital Goods   \n",
       "27         n/a     n/a                n/a   \n",
       "28         n/a    2013        Health Care   \n",
       "29         n/a     n/a            Finance   \n",
       "...        ...     ...                ...   \n",
       "3254       n/a     n/a            Finance   \n",
       "3255       n/a     n/a  Consumer Services   \n",
       "3256       n/a     n/a   Basic Industries   \n",
       "3257  11153257    2016            Finance   \n",
       "3258       n/a    2017  Consumer Services   \n",
       "3259       n/a     n/a  Consumer Services   \n",
       "3260       n/a     n/a     Transportation   \n",
       "3261       n/a    2017      Capital Goods   \n",
       "3262  38909954    2012         Technology   \n",
       "3263       n/a    2014        Health Care   \n",
       "3264       n/a     n/a  Consumer Services   \n",
       "3265   5883000    2017        Health Care   \n",
       "3266       n/a    2013            Finance   \n",
       "3267   4372752    2017        Health Care   \n",
       "3268       n/a    1991         Technology   \n",
       "3269       n/a     n/a      Miscellaneous   \n",
       "3270       n/a    2011      Miscellaneous   \n",
       "3271       n/a     n/a             Energy   \n",
       "3272       n/a     n/a             Energy   \n",
       "3273       n/a     n/a            Finance   \n",
       "3274       n/a     n/a            Finance   \n",
       "3275       n/a     n/a            Finance   \n",
       "3276       n/a     n/a        Health Care   \n",
       "3277       n/a     n/a         Technology   \n",
       "3278       n/a    2017      Capital Goods   \n",
       "3279       n/a    2010        Health Care   \n",
       "3280       n/a    2015        Health Care   \n",
       "3281       n/a    2005  Consumer Services   \n",
       "3282       n/a    2015        Health Care   \n",
       "3283       n/a    2011         Technology   \n",
       "\n",
       "                                               Industry  \\\n",
       "0                            Property-Casualty Insurers   \n",
       "1                            Finance/Investors Services   \n",
       "2                                Other Specialty Stores   \n",
       "3                                  Savings Institutions   \n",
       "4                                           Major Banks   \n",
       "5       Computer Software: Programming, Data Processing   \n",
       "6               Computer Software: Prepackaged Software   \n",
       "7                       Diversified Commercial Services   \n",
       "8                           Electric Utilities: Central   \n",
       "9                          Telecommunications Equipment   \n",
       "10                                         Homebuilding   \n",
       "11                                      Major Chemicals   \n",
       "12                      Industrial Machinery/Components   \n",
       "13                      Industrial Machinery/Components   \n",
       "14                                Major Pharmaceuticals   \n",
       "15                                Major Pharmaceuticals   \n",
       "16                                    Business Services   \n",
       "17                           Medical/Dental Instruments   \n",
       "18    Biotechnology: Biological Products (No Diagnos...   \n",
       "19                                 Oil & Gas Production   \n",
       "20                                Major Pharmaceuticals   \n",
       "21                                       Semiconductors   \n",
       "22                               Multi-Sector Companies   \n",
       "23                                 Medical Specialities   \n",
       "24                                Major Pharmaceuticals   \n",
       "25                                Major Pharmaceuticals   \n",
       "26     Biotechnology: Laboratory Analytical Instruments   \n",
       "27                                                  n/a   \n",
       "28    Biotechnology: Biological Products (No Diagnos...   \n",
       "29                                 Savings Institutions   \n",
       "...                                                 ...   \n",
       "3254                                        Real Estate   \n",
       "3255                            Transportation Services   \n",
       "3256                               Containers/Packaging   \n",
       "3257                 Investment Bankers/Brokers/Service   \n",
       "3258                            Other Consumer Services   \n",
       "3259                     Catalog/Specialty Distribution   \n",
       "3260                  Trucking Freight/Courier Services   \n",
       "3261                                 Building Materials   \n",
       "3262                                       EDP Services   \n",
       "3263                              Major Pharmaceuticals   \n",
       "3264                             Other Specialty Stores   \n",
       "3265                              Major Pharmaceuticals   \n",
       "3266                                Investment Managers   \n",
       "3267                              Major Pharmaceuticals   \n",
       "3268                    Industrial Machinery/Components   \n",
       "3269                                  Business Services   \n",
       "3270                                  Business Services   \n",
       "3271                               Oil & Gas Production   \n",
       "3272                               Oil & Gas Production   \n",
       "3273                                        Major Banks   \n",
       "3274                                        Major Banks   \n",
       "3275                                        Major Banks   \n",
       "3276                              Major Pharmaceuticals   \n",
       "3277                                       EDP Services   \n",
       "3278                                 Metal Fabrications   \n",
       "3279                              Major Pharmaceuticals   \n",
       "3280                              Major Pharmaceuticals   \n",
       "3281                     Clothing/Shoe/Accessory Stores   \n",
       "3282                              Major Pharmaceuticals   \n",
       "3283                                       EDP Services   \n",
       "\n",
       "                           Summary Quote  Unnamed: 9  \n",
       "0       http://www.nasdaq.com/symbol/pih         NaN  \n",
       "1      http://www.nasdaq.com/symbol/turn         NaN  \n",
       "2      http://www.nasdaq.com/symbol/flws         NaN  \n",
       "3      http://www.nasdaq.com/symbol/fccy         NaN  \n",
       "4      http://www.nasdaq.com/symbol/srce         NaN  \n",
       "5      http://www.nasdaq.com/symbol/vnet         NaN  \n",
       "6      http://www.nasdaq.com/symbol/twou         NaN  \n",
       "7      http://www.nasdaq.com/symbol/jobs         NaN  \n",
       "8      http://www.nasdaq.com/symbol/cafd         NaN  \n",
       "9      http://www.nasdaq.com/symbol/eght         NaN  \n",
       "10     http://www.nasdaq.com/symbol/avhi         NaN  \n",
       "11     http://www.nasdaq.com/symbol/shlm         NaN  \n",
       "12     http://www.nasdaq.com/symbol/aaon         NaN  \n",
       "13     http://www.nasdaq.com/symbol/abax         NaN  \n",
       "14     http://www.nasdaq.com/symbol/abeo         NaN  \n",
       "15    http://www.nasdaq.com/symbol/abeow         NaN  \n",
       "16     http://www.nasdaq.com/symbol/abil         NaN  \n",
       "17     http://www.nasdaq.com/symbol/abmd         NaN  \n",
       "18     http://www.nasdaq.com/symbol/ablx         NaN  \n",
       "19     http://www.nasdaq.com/symbol/axas         NaN  \n",
       "20     http://www.nasdaq.com/symbol/aciu         NaN  \n",
       "21     http://www.nasdaq.com/symbol/acia         NaN  \n",
       "22     http://www.nasdaq.com/symbol/actg         NaN  \n",
       "23     http://www.nasdaq.com/symbol/achc         NaN  \n",
       "24     http://www.nasdaq.com/symbol/acad         NaN  \n",
       "25     http://www.nasdaq.com/symbol/acst         NaN  \n",
       "26     http://www.nasdaq.com/symbol/axdx         NaN  \n",
       "27     http://www.nasdaq.com/symbol/accp         NaN  \n",
       "28     http://www.nasdaq.com/symbol/xlrn         NaN  \n",
       "29     http://www.nasdaq.com/symbol/ancx         NaN  \n",
       "...                                  ...         ...  \n",
       "3254   http://www.nasdaq.com/symbol/yerr         NaN  \n",
       "3255   http://www.nasdaq.com/symbol/ytra         NaN  \n",
       "3256   http://www.nasdaq.com/symbol/yten         NaN  \n",
       "3257    http://www.nasdaq.com/symbol/yin         NaN  \n",
       "3258   http://www.nasdaq.com/symbol/yoga         NaN  \n",
       "3259   http://www.nasdaq.com/symbol/ygyi         NaN  \n",
       "3260   http://www.nasdaq.com/symbol/yrcw         NaN  \n",
       "3261   http://www.nasdaq.com/symbol/yeco         NaN  \n",
       "3262     http://www.nasdaq.com/symbol/yy         NaN  \n",
       "3263   http://www.nasdaq.com/symbol/zfgn         NaN  \n",
       "3264   http://www.nasdaq.com/symbol/zagg         NaN  \n",
       "3265   http://www.nasdaq.com/symbol/zlab         NaN  \n",
       "3266   http://www.nasdaq.com/symbol/zais         NaN  \n",
       "3267   http://www.nasdaq.com/symbol/zeal         NaN  \n",
       "3268   http://www.nasdaq.com/symbol/zbra         NaN  \n",
       "3269      http://www.nasdaq.com/symbol/z         NaN  \n",
       "3270     http://www.nasdaq.com/symbol/zg         NaN  \n",
       "3271     http://www.nasdaq.com/symbol/zn         NaN  \n",
       "3272  http://www.nasdaq.com/symbol/znwaa         NaN  \n",
       "3273   http://www.nasdaq.com/symbol/zion         NaN  \n",
       "3274  http://www.nasdaq.com/symbol/zionw         NaN  \n",
       "3275  http://www.nasdaq.com/symbol/zionz         NaN  \n",
       "3276   http://www.nasdaq.com/symbol/ziop         NaN  \n",
       "3277   http://www.nasdaq.com/symbol/zixi         NaN  \n",
       "3278   http://www.nasdaq.com/symbol/zkin         NaN  \n",
       "3279   http://www.nasdaq.com/symbol/zgnx         NaN  \n",
       "3280   http://www.nasdaq.com/symbol/zsan         NaN  \n",
       "3281   http://www.nasdaq.com/symbol/zumz         NaN  \n",
       "3282   http://www.nasdaq.com/symbol/zyne         NaN  \n",
       "3283   http://www.nasdaq.com/symbol/znga         NaN  \n",
       "\n",
       "[3284 rows x 10 columns]>"
      ]
     },
     "execution_count": 18,
     "metadata": {},
     "output_type": "execute_result"
    }
   ],
   "source": [
    "df.head"
   ]
  },
  {
   "cell_type": "markdown",
   "metadata": {},
   "source": [
    "## Q2. 請使用 python 畫中山大學管理學院周邊地圖！\n",
    "\n",
    "提示：\n",
    "\n",
    "1. 使用 geocoder 套件來找出地址的 GPS 座標。\n",
    "2. 使用 folium 套件來顯示地圖。"
   ]
  },
  {
   "cell_type": "code",
   "execution_count": 5,
   "metadata": {
    "collapsed": true
   },
   "outputs": [],
   "source": [
    "import geocoder"
   ]
  },
  {
   "cell_type": "code",
   "execution_count": 6,
   "metadata": {
    "collapsed": true
   },
   "outputs": [],
   "source": [
    "location = geocoder.google('中山大學管理學院')"
   ]
  },
  {
   "cell_type": "code",
   "execution_count": 7,
   "metadata": {
    "collapsed": true
   },
   "outputs": [],
   "source": [
    "location.latlng"
   ]
  },
  {
   "cell_type": "code",
   "execution_count": 8,
   "metadata": {
    "collapsed": true
   },
   "outputs": [],
   "source": [
    "import folium"
   ]
  },
  {
   "cell_type": "code",
   "execution_count": 9,
   "metadata": {},
   "outputs": [
    {
     "data": {
      "text/html": [
       "<div style=\"width:100%;\"><div style=\"position:relative;width:100%;height:0;padding-bottom:60%;\"><iframe src=\"data:text/html;charset=utf-8;base64,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\" style=\"position:absolute;width:100%;height:100%;left:0;top:0;border:none !important;\" allowfullscreen webkitallowfullscreen mozallowfullscreen></iframe></div></div>"
      ],
      "text/plain": [
       "<folium.folium.Map at 0x9e211d0>"
      ]
     },
     "execution_count": 9,
     "metadata": {},
     "output_type": "execute_result"
    }
   ],
   "source": [
    "folium.Map(location=[22.627447, 120.265274], zoom_start=16)"
   ]
  },
  {
   "cell_type": "markdown",
   "metadata": {},
   "source": [
    "## Q3. 請使用 python 將新聞中可能的關鍵詞萃取出來！ (Bonus)\n",
    "\n",
    "提示：\n",
    "\n",
    "1. 使用老師提供的 util.py 來擷取鉅亨網上特定新聞的內容。\n",
    "2. 使用 jieba 套件來擷取關鍵詞。"
   ]
  },
  {
   "cell_type": "code",
   "execution_count": 1,
   "metadata": {
    "collapsed": true
   },
   "outputs": [],
   "source": [
    "import util"
   ]
  },
  {
   "cell_type": "code",
   "execution_count": 2,
   "metadata": {},
   "outputs": [
    {
     "name": "stdout",
     "output_type": "stream",
     "text": [
      "友達 (2409-TW) 今 (26) 日舉行法人說明會公布年第 3 季合併財務報表，合併營收 874 億元，季增 3.5%，年增 1.6%，稅後純益 88.6 億元，季減 9.9%，年增 80.8%，每股純益 0.92 元，表現符合市場預期；累計前 3 季合併營收 2603.6 億元，年增 9.7%，稅後純益 281.6 億元，每股純益 2.93 元。\n",
      "友達第 3 季營業毛利 153.13 億元，毛利率 17.5%，季減 2.8 個百分點，營業淨利 97.43 億元，營業淨利率 11.1%，季減 2.7 個百分點，年增 69.2%；第 3 季 EBITDA 獲利率 21.1%，顯示器事業單位營業淨利率 11.8%、EBITDA 獲利率 21.9%，獲利表現仍然在相對高檔。\n",
      "友達第 3 季大尺寸面板出貨量約 2909 萬片，季增 8.3%；中小尺寸面板出貨量約 4681 萬片，季增 21.1%；友達指出，第 3 季受惠於年底消費旺季的備貨需求，出貨動能相當不錯，面板價格雖有下滑，但整體營收仍較上季成長 3.5%。\n",
      "展望第 4 季，友達指出，一方面樂觀看待未來產業整體需求，一方面審慎關注終端銷售及庫存的變化，以快速作出因應，接下來將加速展開明年新產品的開發，持續以技術優勢拉開與競爭者的距離。\n",
      "\n",
      "友達日 K 線圖\n",
      "\n",
      " \n",
      "\n"
     ]
    }
   ],
   "source": [
    "print(util.get_news_article('https://news.cnyes.com/news/id/3948750'))"
   ]
  },
  {
   "cell_type": "code",
   "execution_count": null,
   "metadata": {
    "collapsed": true
   },
   "outputs": [],
   "source": []
  }
 ],
 "metadata": {
  "kernelspec": {
   "display_name": "Python 3",
   "language": "python",
   "name": "python3"
  },
  "language_info": {
   "codemirror_mode": {
    "name": "ipython",
    "version": 3
   },
   "file_extension": ".py",
   "mimetype": "text/x-python",
   "name": "python",
   "nbconvert_exporter": "python",
   "pygments_lexer": "ipython3",
   "version": "3.6.3"
  }
 },
 "nbformat": 4,
 "nbformat_minor": 2
}
